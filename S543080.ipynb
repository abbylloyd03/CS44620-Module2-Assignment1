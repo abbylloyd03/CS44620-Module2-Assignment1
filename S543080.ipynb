{
 "cells": [
  {
   "cell_type": "markdown",
   "id": "b6255ac8-a2c8-4071-8e66-407415f2c8e0",
   "metadata": {},
   "source": [
    "### Abby Lloyd"
   ]
  },
  {
   "cell_type": "markdown",
   "id": "e8b1c823-2ca6-4bb6-877d-426cfdcabcab",
   "metadata": {},
   "source": [
    "10. Create a new Jupyter Notebook (the name of the notebook should be your S number). Add a Markdown cell that contains your name. Add a Code cell and write Python that uses loops to draw the following pattern:\n",
    "\n",
    "```\n",
    "*      *\n",
    "**    **\n",
    "***  ***\n",
    "********\n",
    "```\n",
    "Make sure to add and submit both the new notebook and the changes to this notebook for this assignment."
   ]
  },
  {
   "cell_type": "code",
   "execution_count": 10,
   "id": "9f903785-bd9b-40ed-b975-b0c4b807a915",
   "metadata": {},
   "outputs": [
    {
     "name": "stdout",
     "output_type": "stream",
     "text": [
      "*      *\n",
      "**    **\n",
      "***  ***\n",
      "********\n"
     ]
    }
   ],
   "source": [
    "stars = '*'\n",
    "space = ' '\n",
    "number_of_stars = 1\n",
    "number_of_spaces = 6\n",
    "\n",
    "for x in range(4):\n",
    "    print(f'{stars * number_of_stars}{space * number_of_spaces}{stars * number_of_stars}')\n",
    "    number_of_stars += 1\n",
    "    number_of_spaces -=2"
   ]
  }
 ],
 "metadata": {
  "kernelspec": {
   "display_name": "Python 3 (ipykernel)",
   "language": "python",
   "name": "python3"
  },
  "language_info": {
   "codemirror_mode": {
    "name": "ipython",
    "version": 3
   },
   "file_extension": ".py",
   "mimetype": "text/x-python",
   "name": "python",
   "nbconvert_exporter": "python",
   "pygments_lexer": "ipython3",
   "version": "3.9.7"
  }
 },
 "nbformat": 4,
 "nbformat_minor": 5
}
